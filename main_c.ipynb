{
 "cells": [
  {
   "cell_type": "code",
   "execution_count": 38,
   "metadata": {},
   "outputs": [],
   "source": [
    "import os\n",
    "import ctypes \n",
    "\n",
    "class return_vals_py_side(ctypes.Structure):\n",
    "    _fields_ = [('xpix', ctypes.POINTER(ctypes.c_int)),\n",
    "                ('ypix', ctypes.POINTER(ctypes.c_int)),\n",
    "                ('s', ctypes.POINTER(ctypes.c_double)),\n",
    "                ('size', ctypes.c_int)]\n",
    "    \n",
    "x1 = 0\n",
    "y1 = 0\n",
    "x2 = 0\n",
    "y2 = 19.31\n",
    "\n",
    "# Need to figure out how to make this get called once.\n",
    "#\n",
    "# find_pixel_trace() gets called million of times but does ortho.py or build_igm_array() get called that many times?\n",
    "# I expect no because find_pixel_trace is in a nested for loop but I should atleast ask if I can make it a global variable.  \n",
    "so_file = os.path.join(os.getcwd(), 'my_functions.so')\n",
    "my_functions = ctypes.CDLL(so_file)\n",
    "\n",
    "my_functions.find_pixel_trace.argtypes = [ctypes.c_float, ctypes.c_float, ctypes.c_float, ctypes.c_float]\n",
    "my_functions.find_pixel_trace.restype = ctypes.POINTER(return_vals_py_side)\n"
   ]
  },
  {
   "cell_type": "code",
   "execution_count": 39,
   "metadata": {},
   "outputs": [
    {
     "name": "stdout",
     "output_type": "stream",
     "text": [
      "1315924224\n"
     ]
    }
   ],
   "source": [
    "a = my_functions.find_pixel_trace(x1, y1, x2, y2).contents\n",
    "xpix = [] \n",
    "ypix = []\n",
    "s = []\n",
    "for i in range(a.size):\n",
    "    print(i)\n",
    "    xpix.append(a.xpix[i])\n",
    "    ypix.append(a.ypix[i])\n",
    "    s.append(a.s[i])\n",
    "\n",
    "print(a.size)"
   ]
  },
  {
   "cell_type": "code",
   "execution_count": 40,
   "metadata": {},
   "outputs": [
    {
     "name": "stdout",
     "output_type": "stream",
     "text": [
      "[]\n",
      "[]\n",
      "[]\n"
     ]
    }
   ],
   "source": [
    "print(xpix)\n",
    "print(ypix)\n",
    "print(s)"
   ]
  }
 ],
 "metadata": {
  "kernelspec": {
   "display_name": "pipeline",
   "language": "python",
   "name": "python3"
  },
  "language_info": {
   "codemirror_mode": {
    "name": "ipython",
    "version": 3
   },
   "file_extension": ".py",
   "mimetype": "text/x-python",
   "name": "python",
   "nbconvert_exporter": "python",
   "pygments_lexer": "ipython3",
   "version": "3.8.2"
  },
  "orig_nbformat": 4
 },
 "nbformat": 4,
 "nbformat_minor": 2
}
