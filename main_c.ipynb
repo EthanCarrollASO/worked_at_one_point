{
 "cells": [
  {
   "cell_type": "code",
   "execution_count": 1,
   "metadata": {},
   "outputs": [],
   "source": [
    "# this whole cell should only be ran one time while the second cell should be run each time find_pixel_trace() is called\n",
    "\n",
    "import os\n",
    "import ctypes \n",
    "\n",
    "class return_vals_py_side(ctypes.Structure):\n",
    "    _fields_ = [('xpix', ctypes.POINTER(ctypes.c_int)),\n",
    "                ('ypix', ctypes.POINTER(ctypes.c_int)),\n",
    "                ('s', ctypes.POINTER(ctypes.c_double)),\n",
    "                ('size', ctypes.c_int)]\n",
    "    \n",
    "x1 = 0\n",
    "y1 = 0\n",
    "x2 = 0\n",
    "y2 = 0\n",
    "  \n",
    "so_file = os.path.join(os.getcwd(), 'my_functions.so')\n",
    "my_functions = ctypes.CDLL(so_file)\n",
    "\n",
    "my_functions.find_pixel_trace.argtypes = [ctypes.c_float, ctypes.c_float, ctypes.c_float, ctypes.c_float]\n",
    "my_functions.find_pixel_trace.restype = ctypes.POINTER(return_vals_py_side)\n"
   ]
  },
  {
   "cell_type": "code",
   "execution_count": null,
   "metadata": {},
   "outputs": [
    {
     "ename": "",
     "evalue": "",
     "output_type": "error",
     "traceback": [
      "\u001b[1;31mThe Kernel crashed while executing code in the the current cell or a previous cell. Please review the code in the cell(s) to identify a possible cause of the failure. Click <a href='https://aka.ms/vscodeJupyterKernelCrash'>here</a> for more info. View Jupyter <a href='command:jupyter.viewOutput'>log</a> for further details."
     ]
    }
   ],
   "source": [
    "a = my_functions.find_pixel_trace(x1, y1, x2, y2).contents\n",
    "\n",
    "# Below code is needed in Py --> C version\n",
    "xpix = [] \n",
    "ypix = []\n",
    "s = []\n",
    "for i in range(a.size):\n",
    "    xpix.append(a.xpix[i])\n",
    "    ypix.append(a.ypix[i])\n",
    "    s.append(a.s[i])\n",
    "\n"
   ]
  },
  {
   "cell_type": "code",
   "execution_count": null,
   "metadata": {},
   "outputs": [],
   "source": [
    "xpix = [] \n",
    "ypix = []\n",
    "s = []\n",
    "for i in range(a.size):\n",
    "    xpix.append(a.xpix[i])\n",
    "    ypix.append(a.ypix[i])\n",
    "    s.append(a.s[i])"
   ]
  }
 ],
 "metadata": {
  "kernelspec": {
   "display_name": "pipeline",
   "language": "python",
   "name": "python3"
  },
  "language_info": {
   "codemirror_mode": {
    "name": "ipython",
    "version": 3
   },
   "file_extension": ".py",
   "mimetype": "text/x-python",
   "name": "python",
   "nbconvert_exporter": "python",
   "pygments_lexer": "ipython3",
   "version": "3.8.2"
  },
  "orig_nbformat": 4
 },
 "nbformat": 4,
 "nbformat_minor": 2
}
